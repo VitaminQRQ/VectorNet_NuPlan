{
 "cells": [
  {
   "cell_type": "markdown",
   "metadata": {},
   "source": [
    "**Step 1.** Import necessary libraries"
   ]
  },
  {
   "cell_type": "code",
   "execution_count": null,
   "metadata": {},
   "outputs": [],
   "source": [
    "import os\n",
    "\n",
    "from utils import config\n",
    "from utils.data_processor import DataProcessor\n",
    "from utils.common_utils import (\n",
    "    get_scenario_map,\n",
    "    get_filter_parameters\n",
    ")\n",
    "from utils.dataset import GraphDataset, GraphData\n",
    "\n",
    "import torch\n",
    "from torch_geometric.loader import DataLoader\n",
    "\n",
    "from nuplan.planning.scenario_builder.nuplan_db.nuplan_scenario_utils import ScenarioMapping\n",
    "from nuplan.planning.scenario_builder.scenario_filter import ScenarioFilter\n",
    "from nuplan.planning.scenario_builder.nuplan_db.nuplan_scenario_builder import NuPlanScenarioBuilder\n",
    "from nuplan.planning.utils.multithreading.worker_parallel import SingleMachineParallelExecutor"
   ]
  },
  {
   "cell_type": "markdown",
   "metadata": {},
   "source": [
    "**Step 2** Construct a `data_processor` class"
   ]
  },
  {
   "cell_type": "code",
   "execution_count": null,
   "metadata": {},
   "outputs": [],
   "source": [
    "# nuplan arguments\n",
    "scenarios_per_type = 1000\n",
    "total_scenarios = None\n",
    "shuffle_scenarios = False\n",
    "\n",
    "sensor_root = None\n",
    "db_files = None\n",
    "\n",
    "# create folder for processed data\n",
    "os.makedirs(config.SAVE_PATH, exist_ok=True)\n",
    "\n",
    "# get scenarios\n",
    "scenario_mapping = ScenarioMapping(\n",
    "    scenario_map=get_scenario_map(), \n",
    "    subsample_ratio_override=0.5\n",
    ")\n",
    "\n",
    "builder = NuPlanScenarioBuilder(\n",
    "    config.DATA_PATH, \n",
    "    config.MAP_PATH, \n",
    "    sensor_root, \n",
    "    db_files, \n",
    "    config.MAP_VERSION, \n",
    "    scenario_mapping=scenario_mapping\n",
    ")\n",
    "\n",
    "# scenarios for training\n",
    "scenario_filter = ScenarioFilter(\n",
    "    *get_filter_parameters(\n",
    "        scenarios_per_type, \n",
    "        total_scenarios, \n",
    "        shuffle_scenarios\n",
    "    )\n",
    ")\n",
    "\n",
    "# enable parallel process\n",
    "worker = SingleMachineParallelExecutor(use_process_pool=True)\n",
    "\n",
    "# get scenarios\n",
    "scenarios = builder.get_scenarios(scenario_filter, worker)"
   ]
  },
  {
   "cell_type": "markdown",
   "metadata": {},
   "source": [
    "Do data processing"
   ]
  },
  {
   "cell_type": "code",
   "execution_count": null,
   "metadata": {},
   "outputs": [],
   "source": [
    "# pick a scenario\n",
    "scenario = scenarios[10]\n",
    "\n",
    "# do processing\n",
    "data_processor = DataProcessor(scenario)\n",
    "data, features = data_processor.process(debug=True)"
   ]
  },
  {
   "cell_type": "code",
   "execution_count": null,
   "metadata": {},
   "outputs": [],
   "source": [
    "features['GROUND_TRUTH'].values[0].shape"
   ]
  },
  {
   "cell_type": "markdown",
   "metadata": {},
   "source": [
    "**Step 3** Load data"
   ]
  },
  {
   "cell_type": "code",
   "execution_count": null,
   "metadata": {},
   "outputs": [],
   "source": [
    "processed_data_path = config.SAVE_PATH\n",
    "dataset = GraphDataset(processed_data_path)\n",
    "batch_iter = DataLoader(dataset, batch_size=5)\n",
    "\n",
    "# Check if CUDA is available and set the device accordingly\n",
    "device = torch.device(\n",
    "    'cuda' if torch.cuda.is_available() else 'cpu'\n",
    ")\n",
    "\n",
    "# Get a single batch from the iterator and move it to the selected device    \n",
    "batch = next(iter(batch_iter))\n",
    "batch.x.shape"
   ]
  },
  {
   "cell_type": "markdown",
   "metadata": {},
   "source": [
    "**Step 4** Test Netwrok"
   ]
  },
  {
   "cell_type": "code",
   "execution_count": null,
   "metadata": {},
   "outputs": [],
   "source": [
    "from vectornet.subgraph import GraphLayerProp, SubGraph\n",
    "\n",
    "subgraph_layer = GraphLayerProp(\n",
    "    in_channels=batch.x.shape[1],\n",
    "    hidden_unit=64,\n",
    "    verbose=True\n",
    ")\n",
    "\n",
    "layer_out = subgraph_layer(\n",
    "    batch.x.to(torch.float32), \n",
    "    batch.edge_index\n",
    ")\n",
    "\n",
    "subgraph = SubGraph(\n",
    "    in_channels=batch.x.shape[1],\n",
    "    num_subgraph_layres=3,\n",
    "    hidden_unit=64\n",
    ")\n",
    "\n",
    "subgraph_out = subgraph(batch)\n",
    "\n",
    "print(subgraph_out.x)"
   ]
  },
  {
   "cell_type": "code",
   "execution_count": null,
   "metadata": {},
   "outputs": [],
   "source": [
    "from vectornet.globalgraph import SelfAttentionLayer\n",
    "\n",
    "self_atten_input = subgraph_out.x.view(-1, config.NUM_GRAPH, subgraph_out.num_features)\n",
    "\n",
    "self_atten_layer = SelfAttentionLayer(\n",
    "    in_channels=subgraph_out.num_features,\n",
    "    global_graph_width=64\n",
    ")\n",
    "\n",
    "self_atten_out = self_atten_layer(self_atten_input)"
   ]
  },
  {
   "cell_type": "code",
   "execution_count": null,
   "metadata": {},
   "outputs": [],
   "source": [
    "from vectornet.vectornet import TrajPredMLP\n",
    "\n",
    "agent_feature = self_atten_out[:, 0:config.NUM_AGENTS+1, :]\n",
    "mlp_input = agent_feature.contiguous().view(-1, agent_feature.shape[2])\n",
    "\n",
    "pred_mlp = TrajPredMLP(\n",
    "    in_channels=agent_feature.shape[2],\n",
    "    out_channels=(config.NUM_AGENTS + 1) * config.NUM_FUTURE_POSES,\n",
    "    hidden_unit=64\n",
    ")\n",
    "\n",
    "# pred_mlp_out = pred_mlp(self_atten_out)\n",
    "# pred_mlp_out"
   ]
  },
  {
   "cell_type": "code",
   "execution_count": null,
   "metadata": {},
   "outputs": [],
   "source": [
    "import torch.nn as nn\n",
    "import torch.nn.functional as F\n",
    "from vectornet.vectornet import VectornetGNN\n",
    "\n",
    "\n",
    "gnn = VectornetGNN(\n",
    "    in_channels=batch.num_features,\n",
    "    out_channels=(config.NUM_AGENTS + 1) * config.NUM_FUTURE_POSES\n",
    ")\n",
    "\n",
    "gnn_out = gnn(batch)\n",
    "gnn_out.shape"
   ]
  }
 ],
 "metadata": {
  "kernelspec": {
   "display_name": "nuplan",
   "language": "python",
   "name": "python3"
  },
  "language_info": {
   "codemirror_mode": {
    "name": "ipython",
    "version": 3
   },
   "file_extension": ".py",
   "mimetype": "text/x-python",
   "name": "python",
   "nbconvert_exporter": "python",
   "pygments_lexer": "ipython3",
   "version": "3.9.19"
  }
 },
 "nbformat": 4,
 "nbformat_minor": 2
}
