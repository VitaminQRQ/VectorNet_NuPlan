{
 "cells": [
  {
   "cell_type": "markdown",
   "metadata": {},
   "source": [
    "Import libraries"
   ]
  },
  {
   "cell_type": "code",
   "execution_count": 11,
   "metadata": {},
   "outputs": [],
   "source": [
    "import os\n",
    "import time\n",
    "\n",
    "import torch\n",
    "import numpy as np\n",
    "\n",
    "import torch.optim as optim\n",
    "from torch_geometric.loader import DataLoader\n",
    "import torch.nn.functional as F\n",
    "\n",
    "from utils import config\n",
    "from utils.dataset import GraphDataset, GraphData, get_sequential_edge_index\n",
    "from vectornet.vectornet import VectornetGNN\n",
    "\n",
    "import matplotlib.pyplot as plt\n",
    "from utils.data_utils import draw_trajectory, create_ego_raster, create_agents_raster, create_map_raster, decoding_features, increment_to_trajectories"
   ]
  },
  {
   "cell_type": "markdown",
   "metadata": {},
   "source": [
    "Use training set to test the output, as well as the plot function"
   ]
  },
  {
   "cell_type": "code",
   "execution_count": 12,
   "metadata": {},
   "outputs": [
    {
     "data": {
      "text/plain": [
       "<All keys matched successfully>"
      ]
     },
     "execution_count": 12,
     "metadata": {},
     "output_type": "execute_result"
    }
   ],
   "source": [
    "# Set seed\n",
    "np.random.seed(config.SEED)\n",
    "torch.manual_seed(config.SEED)\n",
    "\n",
    "# Get validation set\n",
    "validate_data = GraphDataset(config.TRAIN_PATH)\n",
    "\n",
    "# Load validation data\n",
    "validate_loader = DataLoader(\n",
    "    validate_data,\n",
    "    batch_size=1\n",
    ")\n",
    "\n",
    "# Create predictor\n",
    "device = device = torch.device(\n",
    "    'cuda:0' if torch.cuda.is_available() else 'cpu'\n",
    ")\n",
    "\n",
    "model = VectornetGNN(\n",
    "    in_channels=config.IN_CHANNELS,\n",
    "    out_channels=config.OUT_CHANNELS,\n",
    ").to(device)\n",
    "\n",
    "model.load_state_dict(\n",
    "    torch.load(config.WEIGHT_PATH + '/model_epoch_100.pth')\n",
    ")\n"
   ]
  },
  {
   "cell_type": "code",
   "execution_count": 13,
   "metadata": {},
   "outputs": [],
   "source": [
    "# 确保结果目录存在\n",
    "if not os.path.exists('./result/'):\n",
    "    os.makedirs('./result/')\n",
    "\n",
    "model.eval()\n",
    "with torch.no_grad():\n",
    "    for i, data in enumerate(validate_loader):\n",
    "        data = data.to(device)\n",
    "        observations = data.x\n",
    "        model_out = model(data)\n",
    "        \n",
    "        ego_past, agent_past_list, \\\n",
    "        lane_list, crosswalk_list, \\\n",
    "        route_lane_list, \\\n",
    "        agent_current_pose_list = decoding_features(observations)        \n",
    "        predicted_path_list = increment_to_trajectories(model_out.cpu(), agent_current_pose_list)\n",
    "        \n",
    "        # 绘制轨迹和地图\n",
    "        draw_trajectory(ego_past, agent_past_list)\n",
    "        create_map_raster(lane_list, crosswalk_list, route_lane_list)\n",
    "        draw_trajectory(predicted_path_list[0, :, :], predicted_path_list[1:, :, :], alpha=0.5, linewidth=2)\n",
    "        plt.axis('equal')"
   ]
  }
 ],
 "metadata": {
  "kernelspec": {
   "display_name": "nuplan",
   "language": "python",
   "name": "python3"
  },
  "language_info": {
   "codemirror_mode": {
    "name": "ipython",
    "version": 3
   },
   "file_extension": ".py",
   "mimetype": "text/x-python",
   "name": "python",
   "nbconvert_exporter": "python",
   "pygments_lexer": "ipython3",
   "version": "3.9.18"
  }
 },
 "nbformat": 4,
 "nbformat_minor": 2
}
